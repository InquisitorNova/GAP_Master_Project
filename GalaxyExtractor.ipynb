{
 "cells": [
  {
   "cell_type": "code",
   "execution_count": 7,
   "metadata": {},
   "outputs": [],
   "source": [
    "# Import the relevant modules:\n",
    "\n",
    "# Import the modules for vector calculations\n",
    "import pandas as pd\n",
    "import polars as pL\n",
    "import numpy as np\n",
    "import scipy as sp\n",
    "import math\n",
    "\n",
    "# Import the modules for data preprocessing\n",
    "import os\n",
    "from astroquery.sdss import SDSS\n",
    "from astroquery.vizier import Vizier\n",
    "from astropy import coordinates as coords\n",
    "import asyncio \n",
    "import aiohttp\n",
    "from astropy.io import fits\n",
    "from GalaxyHelperFunc import *\n",
    "from tqdm import tqdm\n",
    "import time\n",
    "\n",
    "# Import the modules for data visualization\n",
    "import matplotlib.pyplot as plt\n",
    "import seaborn as sns\n",
    "import plotly.express as px\n",
    "\n",
    "# Import the modules for Deep-Learning\n",
    "import torch\n",
    "import torch.nn as nn\n",
    "import torch.optim as optim\n",
    "import torch.nn.functional as F\n",
    "import torch.utils.data as data_utils\n",
    "import torch.distributions as distributions\n",
    "import pytorch_lightning as pl\n",
    "from pytorch_lightning import Trainer\n",
    "from pytorch_lightning.loggers import TensorBoardLogger\n",
    "from pytorch_lightning.callbacks import EarlyStopping, LearningRateMonitor, ModelCheckpoint"
   ]
  },
  {
   "cell_type": "code",
   "execution_count": 8,
   "metadata": {},
   "outputs": [
    {
     "data": {
      "text/html": [
       "<div><style>\n",
       ".dataframe > thead > tr,\n",
       ".dataframe > tbody > tr {\n",
       "  text-align: right;\n",
       "  white-space: pre-wrap;\n",
       "}\n",
       "</style>\n",
       "<small>shape: (5, 18)</small><table border=\"1\" class=\"dataframe\"><thead><tr><th>objid</th><th>ra</th><th>dec</th><th>u</th><th>g</th><th>r</th><th>i</th><th>z</th><th>run</th><th>rerun</th><th>camcol</th><th>field</th><th>field1</th><th>specobjid</th><th>redshift</th><th>plate</th><th>mjd</th><th>fiberid</th></tr><tr><td>u64</td><td>f64</td><td>f64</td><td>f64</td><td>f64</td><td>f64</td><td>f64</td><td>f64</td><td>i32</td><td>i32</td><td>i32</td><td>i32</td><td>i32</td><td>u64</td><td>f64</td><td>i32</td><td>i32</td><td>i32</td></tr></thead><tbody><tr><td>1237648703509037704</td><td>196.428899</td><td>-0.630877</td><td>22.59034</td><td>22.28877</td><td>21.18809</td><td>20.0661</td><td>19.74049</td><td>752</td><td>301</td><td>2</td><td>353</td><td>353</td><td>4561064317748008960</td><td>0.6838333</td><td>4051</td><td>55337</td><td>159</td></tr><tr><td>1237648703509037971</td><td>196.389789</td><td>-0.694249</td><td>23.15419</td><td>22.82531</td><td>20.76846</td><td>19.84812</td><td>19.58682</td><td>752</td><td>301</td><td>2</td><td>353</td><td>353</td><td>4562238875456788480</td><td>0.4224373</td><td>4052</td><td>55600</td><td>336</td></tr><tr><td>1237648703509037997</td><td>196.417728</td><td>-0.667848</td><td>22.90089</td><td>22.56379</td><td>20.98486</td><td>19.68926</td><td>18.92513</td><td>752</td><td>301</td><td>2</td><td>353</td><td>353</td><td>4561063218236381184</td><td>0.6842009</td><td>4051</td><td>55337</td><td>155</td></tr><tr><td>1237648703509038045</td><td>196.479788</td><td>-0.718012</td><td>23.89636</td><td>22.43867</td><td>20.76097</td><td>19.67946</td><td>19.32264</td><td>752</td><td>301</td><td>2</td><td>353</td><td>353</td><td>4562228704789682176</td><td>0.5035014</td><td>4052</td><td>55589</td><td>299</td></tr><tr><td>1237648703509038048</td><td>196.482531</td><td>-0.745879</td><td>24.28602</td><td>23.22475</td><td>20.93204</td><td>19.74528</td><td>19.13798</td><td>752</td><td>301</td><td>2</td><td>353</td><td>353</td><td>4561052223120103424</td><td>0.6223917</td><td>4051</td><td>55337</td><td>115</td></tr></tbody></table></div>"
      ],
      "text/plain": [
       "shape: (5, 18)\n",
       "┌────────────────────┬────────────┬───────────┬──────────┬───┬───────────┬───────┬───────┬─────────┐\n",
       "│ objid              ┆ ra         ┆ dec       ┆ u        ┆ … ┆ redshift  ┆ plate ┆ mjd   ┆ fiberid │\n",
       "│ ---                ┆ ---        ┆ ---       ┆ ---      ┆   ┆ ---       ┆ ---   ┆ ---   ┆ ---     │\n",
       "│ u64                ┆ f64        ┆ f64       ┆ f64      ┆   ┆ f64       ┆ i32   ┆ i32   ┆ i32     │\n",
       "╞════════════════════╪════════════╪═══════════╪══════════╪═══╪═══════════╪═══════╪═══════╪═════════╡\n",
       "│ 123764870350903770 ┆ 196.428899 ┆ -0.630877 ┆ 22.59034 ┆ … ┆ 0.6838333 ┆ 4051  ┆ 55337 ┆ 159     │\n",
       "│ 4                  ┆            ┆           ┆          ┆   ┆           ┆       ┆       ┆         │\n",
       "│ 123764870350903797 ┆ 196.389789 ┆ -0.694249 ┆ 23.15419 ┆ … ┆ 0.4224373 ┆ 4052  ┆ 55600 ┆ 336     │\n",
       "│ 1                  ┆            ┆           ┆          ┆   ┆           ┆       ┆       ┆         │\n",
       "│ 123764870350903799 ┆ 196.417728 ┆ -0.667848 ┆ 22.90089 ┆ … ┆ 0.6842009 ┆ 4051  ┆ 55337 ┆ 155     │\n",
       "│ 7                  ┆            ┆           ┆          ┆   ┆           ┆       ┆       ┆         │\n",
       "│ 123764870350903804 ┆ 196.479788 ┆ -0.718012 ┆ 23.89636 ┆ … ┆ 0.5035014 ┆ 4052  ┆ 55589 ┆ 299     │\n",
       "│ 5                  ┆            ┆           ┆          ┆   ┆           ┆       ┆       ┆         │\n",
       "│ 123764870350903804 ┆ 196.482531 ┆ -0.745879 ┆ 24.28602 ┆ … ┆ 0.6223917 ┆ 4051  ┆ 55337 ┆ 115     │\n",
       "│ 8                  ┆            ┆           ┆          ┆   ┆           ┆       ┆       ┆         │\n",
       "└────────────────────┴────────────┴───────────┴──────────┴───┴───────────┴───────┴───────┴─────────┘"
      ]
     },
     "execution_count": 8,
     "metadata": {},
     "output_type": "execute_result"
    }
   ],
   "source": [
    "# Download the galaxy data from the SDSS database\n",
    "\n",
    "astro = \"\"\"\n",
    "SELECT TOP 10000\n",
    "    p.objid, p.ra, p.dec, p.u, p.g, p.r, p.i, p.z,\n",
    "    p.run, p.rerun, p.camcol, p.field, p.field, p.specobjid, \n",
    "    s.z AS redshift, s.plate, s.mjd, s.fiberid\n",
    "FROM PhotoObj AS p\n",
    "JOIN SpecObj AS s \n",
    "    ON s.bestobjid = p.objid\n",
    "WHERE\n",
    "    p.type = 3\n",
    "    AND s.class = 'GALAXY'\n",
    "    AND p.clean = 1\n",
    "\"\"\"\n",
    "\n",
    "Galaxy_Dataset = SDSS.query_sql(astro, timeout = 600)\n",
    "\n",
    "# Convert the data into a pandas dataframe\n",
    "Galaxy_Dataframe = Galaxy_Dataset.to_pandas()\n",
    "\n",
    "# Convert data into a polars dataframe\n",
    "Galaxy_Polars = pL.DataFrame(Galaxy_Dataframe)\n",
    "\n",
    "# Display the first 5 rows of the dataframe\n",
    "Galaxy_Polars.head()"
   ]
  },
  {
   "cell_type": "code",
   "execution_count": 3,
   "metadata": {},
   "outputs": [
    {
     "data": {
      "text/plain": [
       "0        250\n",
       "1        250\n",
       "2        259\n",
       "3        259\n",
       "4        259\n",
       "        ... \n",
       "29995    756\n",
       "29996    756\n",
       "29997    756\n",
       "29998    756\n",
       "29999    756\n",
       "Name: run, Length: 30000, dtype: int32"
      ]
     },
     "execution_count": 3,
     "metadata": {},
     "output_type": "execute_result"
    }
   ],
   "source": [
    "Galaxy_Dataframe[\"run\"]"
   ]
  },
  {
   "cell_type": "code",
   "execution_count": 14,
   "metadata": {},
   "outputs": [
    {
     "name": "stderr",
     "output_type": "stream",
     "text": [
      "Processing Galaxies:   0%|          | 0/10000 [00:00<?, ?it/s]"
     ]
    },
    {
     "name": "stdout",
     "output_type": "stream",
     "text": [
      "Processing galaxy 0 of 10000\n"
     ]
    },
    {
     "name": "stderr",
     "output_type": "stream",
     "text": [
      "Processing Galaxies:   0%|          | 0/10000 [00:00<?, ?it/s]"
     ]
    },
    {
     "name": "stdout",
     "output_type": "stream",
     "text": [
      "tensor([ 0.0154, -0.0231,  0.0058,  ...,  0.0532,  0.0389,  0.0052])\n"
     ]
    },
    {
     "name": "stderr",
     "output_type": "stream",
     "text": [
      "\n"
     ]
    },
    {
     "ename": "RuntimeError",
     "evalue": "stack expects a non-empty TensorList",
     "output_type": "error",
     "traceback": [
      "\u001b[1;31m---------------------------------------------------------------------------\u001b[0m",
      "\u001b[1;31mRuntimeError\u001b[0m                              Traceback (most recent call last)",
      "Cell \u001b[1;32mIn[14], line 52\u001b[0m\n\u001b[0;32m     50\u001b[0m \u001b[38;5;66;03m# Generate the dataset\u001b[39;00m\n\u001b[0;32m     51\u001b[0m Galaxy_Images \u001b[38;5;241m=\u001b[39m Dataset_Generator(Galaxy_Dataframe)\n\u001b[1;32m---> 52\u001b[0m Galaxy_Images \u001b[38;5;241m=\u001b[39m torch\u001b[38;5;241m.\u001b[39mstack(Galaxy_Images)\n\u001b[0;32m     53\u001b[0m Galaxy_Images\u001b[38;5;241m.\u001b[39mshape\n",
      "\u001b[1;31mRuntimeError\u001b[0m: stack expects a non-empty TensorList"
     ]
    }
   ],
   "source": [
    "# Once the coordinates, ra and dec, of the galaxies have been extracted, we can use these to extract the fits images of the galaxies.\n",
    "def fits_Image_to_Tensor(fits_Image):\n",
    "    \"\"\"\n",
    "    This function converts a fits image into a tensor\n",
    "    \"\"\"\n",
    "    # Convert the fits image into a numpy array\n",
    "    fits_Image = fits_Image.astype(np.float32)\n",
    "    \n",
    "    # Convert the numpy array into a tensor\n",
    "    tensor = torch.from_numpy(fits_Image)\n",
    "    \n",
    "    return tensor\n",
    "\n",
    "def Dataset_Generator(Galaxy_Dataframe):\n",
    "    \"\"\"\n",
    "    This function takes in the position of the galaxy, uses this to extract the fits \n",
    "    image of the galaxy and then returns it as a tensor.\n",
    "    \"\"\"\n",
    "    # Create an empty list to store the galaxy images\n",
    "    Galaxy_Images = []\n",
    "    \n",
    "    # Loop through the rows of the dataframe\n",
    "    for index, row in tqdm(total = len(Galaxy_Dataframe), iterable = Galaxy_Dataframe.iterrows(), desc = \"Processing Galaxies\"):\n",
    "        if index % 10 == 0:\n",
    "            print(f\"Processing galaxy {index} of {len(Galaxy_Dataframe)}\")\n",
    "        # Extract the position of the galaxy\n",
    "        position = coords.SkyCoord(row['ra'], row['dec'], unit = 'deg')\n",
    "\n",
    "        # Extract the fits image of the galaxy\n",
    "        for attempt in range(5):\n",
    "            try:\n",
    "                fits_Image = SDSS.get_images(coordinates=position, band = 'r')[0][0].data\n",
    "            except (ConnectionError, TimeoutError) as error:\n",
    "                print(f\" {error} at {position.ra.deg}, {position.dec.deg} at attempt {attempt}, trying again...\")\n",
    "                time.sleep(2)\n",
    "            break\n",
    "        if attempt == 4:\n",
    "            print(f\"Failed to download the image at {position.ra.deg}, {position.dec.deg}\")\n",
    "            continue\n",
    "        # Convert the fits image into a tensor\n",
    "        Galaxy = fits_Image_to_Tensor(fits_Image)\n",
    "        print(Galaxy[0])\n",
    "        break\n",
    "        \n",
    "        # Append the tensor to the list\n",
    "        Galaxy_Images.append(Galaxy)\n",
    "\n",
    "    return Galaxy_Images\n",
    "\n",
    "# Generate the dataset\n",
    "Galaxy_Images = Dataset_Generator(Galaxy_Dataframe)\n",
    "Galaxy_Images = torch.stack(Galaxy_Images)\n",
    "Galaxy_Images.shape"
   ]
  },
  {
   "cell_type": "code",
   "execution_count": 11,
   "metadata": {},
   "outputs": [
    {
     "ename": "NameError",
     "evalue": "name 'Galaxy_Images' is not defined",
     "output_type": "error",
     "traceback": [
      "\u001b[1;31m---------------------------------------------------------------------------\u001b[0m",
      "\u001b[1;31mNameError\u001b[0m                                 Traceback (most recent call last)",
      "Cell \u001b[1;32mIn[11], line 1\u001b[0m\n\u001b[1;32m----> 1\u001b[0m Galaxy_Images\n",
      "\u001b[1;31mNameError\u001b[0m: name 'Galaxy_Images' is not defined"
     ]
    }
   ],
   "source": [
    "Galaxy_Images"
   ]
  },
  {
   "cell_type": "code",
   "execution_count": 3,
   "metadata": {},
   "outputs": [
    {
     "name": "stderr",
     "output_type": "stream",
     "text": [
      "Total Progress:   0%|          | 0/10000 [00:00<?, ?it/s]"
     ]
    },
    {
     "name": "stdout",
     "output_type": "stream",
     "text": [
      "Error: object list can't be used in 'await' expression\n"
     ]
    },
    {
     "name": "stderr",
     "output_type": "stream",
     "text": []
    },
    {
     "name": "stdout",
     "output_type": "stream",
     "text": [
      "Error: object list can't be used in 'await' expression\n"
     ]
    },
    {
     "name": "stderr",
     "output_type": "stream",
     "text": []
    },
    {
     "name": "stdout",
     "output_type": "stream",
     "text": [
      "Error: object list can't be used in 'await' expression\n"
     ]
    },
    {
     "name": "stderr",
     "output_type": "stream",
     "text": []
    },
    {
     "name": "stdout",
     "output_type": "stream",
     "text": [
      "Error: object list can't be used in 'await' expression\n"
     ]
    },
    {
     "name": "stderr",
     "output_type": "stream",
     "text": []
    },
    {
     "name": "stdout",
     "output_type": "stream",
     "text": [
      "Error: object list can't be used in 'await' expression\n"
     ]
    },
    {
     "name": "stderr",
     "output_type": "stream",
     "text": []
    },
    {
     "name": "stdout",
     "output_type": "stream",
     "text": [
      "Error: object list can't be used in 'await' expression\n"
     ]
    },
    {
     "name": "stderr",
     "output_type": "stream",
     "text": []
    },
    {
     "name": "stdout",
     "output_type": "stream",
     "text": [
      "Error: object list can't be used in 'await' expression\n"
     ]
    },
    {
     "name": "stderr",
     "output_type": "stream",
     "text": []
    },
    {
     "name": "stdout",
     "output_type": "stream",
     "text": [
      "Error: object list can't be used in 'await' expression\n"
     ]
    },
    {
     "name": "stderr",
     "output_type": "stream",
     "text": []
    },
    {
     "name": "stdout",
     "output_type": "stream",
     "text": [
      "Error: object list can't be used in 'await' expression\n"
     ]
    },
    {
     "name": "stderr",
     "output_type": "stream",
     "text": []
    },
    {
     "name": "stdout",
     "output_type": "stream",
     "text": [
      "Error: object list can't be used in 'await' expression\n"
     ]
    },
    {
     "name": "stderr",
     "output_type": "stream",
     "text": []
    },
    {
     "name": "stdout",
     "output_type": "stream",
     "text": [
      "Error: object list can't be used in 'await' expression\n"
     ]
    },
    {
     "name": "stderr",
     "output_type": "stream",
     "text": []
    },
    {
     "name": "stdout",
     "output_type": "stream",
     "text": [
      "Error: object list can't be used in 'await' expression\n"
     ]
    },
    {
     "name": "stderr",
     "output_type": "stream",
     "text": []
    },
    {
     "name": "stdout",
     "output_type": "stream",
     "text": [
      "Error: object list can't be used in 'await' expression\n"
     ]
    },
    {
     "name": "stderr",
     "output_type": "stream",
     "text": []
    },
    {
     "name": "stdout",
     "output_type": "stream",
     "text": [
      "Error: object list can't be used in 'await' expression\n"
     ]
    },
    {
     "name": "stderr",
     "output_type": "stream",
     "text": []
    },
    {
     "name": "stdout",
     "output_type": "stream",
     "text": [
      "Error: object list can't be used in 'await' expression\n"
     ]
    },
    {
     "name": "stderr",
     "output_type": "stream",
     "text": []
    },
    {
     "name": "stdout",
     "output_type": "stream",
     "text": [
      "Error: object list can't be used in 'await' expression\n"
     ]
    },
    {
     "name": "stderr",
     "output_type": "stream",
     "text": []
    },
    {
     "name": "stdout",
     "output_type": "stream",
     "text": [
      "Error: object list can't be used in 'await' expression\n"
     ]
    },
    {
     "name": "stderr",
     "output_type": "stream",
     "text": []
    }
   ],
   "source": [
    "# Once the coordinates, ra and dec, of the galaxies have been extracted, we can use these to extract the fits images of the galaxies.\n",
    "# Generate the dataset\n",
    "positions = Galaxy_Dataframe[[\"ra\", \"dec\"]].values.tolist()\n",
    "with tqdm(total = len(positions), desc = \"Total Progress\") as pbar:\n",
    "    fits_data = await fetch_images(positions, pbar)\n",
    "    print(\"Fits Downloaded\")\n",
    "counter = 0\n",
    "Galaxy_Dataset = []\n",
    "for data in fits_data:\n",
    "    Galaxy_Dataset.append(fits_to_tensor(data))\n",
    "    counter+=1\n",
    "    if counter % 100 != 0:\n",
    "        print(counter)"
   ]
  },
  {
   "cell_type": "code",
   "execution_count": 5,
   "metadata": {},
   "outputs": [
    {
     "data": {
      "text/plain": [
       "['AVAILABLE_TEMPLATES',\n",
       " 'IMAGING_URL_SUFFIX',\n",
       " 'MAX_CROSSID_RADIUS',\n",
       " 'QUERY_URL_SUFFIX_DR_10',\n",
       " 'QUERY_URL_SUFFIX_DR_NEW',\n",
       " 'QUERY_URL_SUFFIX_DR_OLD',\n",
       " 'SPECTRA_URL_SUFFIX',\n",
       " 'TEMPLATES_URL',\n",
       " 'TIMEOUT',\n",
       " 'XID_URL_SUFFIX_DR_10',\n",
       " 'XID_URL_SUFFIX_NEW',\n",
       " 'XID_URL_SUFFIX_OLD',\n",
       " '_SDSSClass__sanitize_query',\n",
       " '__abstractmethods__',\n",
       " '__call__',\n",
       " '__class__',\n",
       " '__delattr__',\n",
       " '__dict__',\n",
       " '__dir__',\n",
       " '__doc__',\n",
       " '__eq__',\n",
       " '__format__',\n",
       " '__ge__',\n",
       " '__getattribute__',\n",
       " '__getstate__',\n",
       " '__gt__',\n",
       " '__hash__',\n",
       " '__init__',\n",
       " '__init_subclass__',\n",
       " '__le__',\n",
       " '__lt__',\n",
       " '__module__',\n",
       " '__ne__',\n",
       " '__new__',\n",
       " '__reduce__',\n",
       " '__reduce_ex__',\n",
       " '__repr__',\n",
       " '__setattr__',\n",
       " '__sizeof__',\n",
       " '__str__',\n",
       " '__subclasshook__',\n",
       " '__weakref__',\n",
       " '_abc_impl',\n",
       " '_args_to_payload',\n",
       " '_cache_location',\n",
       " '_download_file',\n",
       " '_get_crossid_url',\n",
       " '_get_query_url',\n",
       " '_last_query',\n",
       " '_last_url',\n",
       " '_parse_result',\n",
       " '_rectangle_sql',\n",
       " '_request',\n",
       " '_response_hook',\n",
       " '_session',\n",
       " 'cache_location',\n",
       " 'clear_cache',\n",
       " 'get_images',\n",
       " 'get_images_async',\n",
       " 'get_spectra',\n",
       " 'get_spectra_async',\n",
       " 'get_spectral_template',\n",
       " 'get_spectral_template_async',\n",
       " 'name',\n",
       " 'query_crossid',\n",
       " 'query_crossid_async',\n",
       " 'query_photoobj',\n",
       " 'query_photoobj_async',\n",
       " 'query_region',\n",
       " 'query_region_async',\n",
       " 'query_specobj',\n",
       " 'query_specobj_async',\n",
       " 'query_sql',\n",
       " 'query_sql_async',\n",
       " 'reset_cache_location',\n",
       " 'table']"
      ]
     },
     "execution_count": 5,
     "metadata": {},
     "output_type": "execute_result"
    }
   ],
   "source": [
    "dir(SDSS)"
   ]
  }
 ],
 "metadata": {
  "kernelspec": {
   "display_name": "GAPGalaxy",
   "language": "python",
   "name": "python3"
  },
  "language_info": {
   "codemirror_mode": {
    "name": "ipython",
    "version": 3
   },
   "file_extension": ".py",
   "mimetype": "text/x-python",
   "name": "python",
   "nbconvert_exporter": "python",
   "pygments_lexer": "ipython3",
   "version": "3.11.7"
  }
 },
 "nbformat": 4,
 "nbformat_minor": 2
}
